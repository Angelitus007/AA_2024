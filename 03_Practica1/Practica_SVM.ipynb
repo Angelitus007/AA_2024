{
 "cells": [
  {
   "metadata": {},
   "cell_type": "markdown",
   "source": [
    "# Gatigos: Classificació d'Imatges de cara de cans i moixos\n",
    "\n",
    "En aquesta pràctica, haureu de desenvolupar un programa en Python que sigui capaç de classificar imatges de cares de cans i moixis utilitzant tècniques d'aprenentatge automàtic. En concret, emprareu un classificador basat en SVM de laa llibreria scikit-learn com el que hem emprat a les pràctiques anteriors.\n",
    "\n",
    "## Instruccions:\n",
    "\n",
    "**Generació de les regions d'interès (ROI)**: Es proporciona un codi que a partir del conjunt d'imatges [Dog and Cat detection](https://www.kaggle.com/datasets/andrewmvd/dog-and-cat-detection) i l'_xml_ associat a cada una d'elles, genera les regions de les cares dels animals (ca i moix) dins les imatges i la seva etiqueta corresponent.\n",
    "\n",
    "**Extracció de característiques amb HoG**: Fes ús de la tècnica Histogram of Oriented Gradients per obtenir un vector de característiques per a cada imatge processada. La llibreria _Skimage_ [enllaç](https://scikit-image.org/docs/stable/api/skimage.feature.html#skimage.feature.hog) proporciona una funcionalitat per extreure aquestes característiques, també per poder visualitzar-les.\n",
    "\n",
    "**Entrenament del model SVM:** Utilitza la classe SVC de la llibreria scikit-learn per entrenar el model de classificació. Entrena el model amb un conjunt d'imatges d'entrenament de cares de ca i moix. És necessari ajustar adequadament els hiperparàmetres del classificador per optimitzar-ne el rendiment. \n",
    "\n",
    "**Validació i test:** Un cop entrenat el model, valida la precisió del model utilitzant un conjunt d'imatges de test. Presenta els resultats en termes de precisió, sensibilitat, i especificitat.\n",
    "\n",
    "## Requisits:\n",
    "\n",
    "   1. Estudiar HoG. Visualitzar diferents configuracions d'aquest extractor de característiques amb imatges de cans i imatges de moixos, per, d'aquesta manera obtenir una idea de com funciona. \n",
    "   2. S'ha de comparar un SVM lineal emprant els pixels de la imatge com a característiques del classificador amb l'ús dels 3 kernels emprats en les pràctiques anteriors: lineal, polinòmic i gaussià (_RBF_) emprant l'extractor de característiques HoG.\n",
    "   3. S'ha de fer una cerca exhaustiva dels millors paràmetres de cada configuració.\n",
    "   4. S'ha de presentar una taula comparativa dels resultats obtinguts amb un petit conjunt d'imatges de _test_ que s'haurà separat abans de començar el procés. Aquesta taula ha de tenir com a files els diferents experiments i com a columnes les 3 mètriques proposades: precisió, sensibilitat, i especificitat.\n",
    "   5. S'ha de realitzar una discussió dels resultats obtinguts explicant quins són els millors. Es valorarà que es mostrin imatges que es troben ben i mal classificades per realitzar la discussió. \n",
    "   \n",
    "\n",
    "## Lliurament:\n",
    "\n",
    "   - El codi en un arxiu _.py_ o _.ipynb_ degudament comentat.\n",
    "   - Un informe tècnic explicant l'estratègia seguida, els resultats obtinguts, i qualsevol dificultat trobada. Aquest informe ha de reflectir les indicacions de la secció anterior.\n",
    "   - Data màxima de lliurament: 27/10/2024 a les 23:59\n",
    "   - Aquesta pràctica es pot fer de manera individual o en parelles. \n",
    "\n",
    "## Suggeriments:\n",
    "\n",
    "   - Experimenta amb diferents configuracions de la funció HoG i els paràmetres de l’SVC per millorar els resultats.\n",
    "   - Assegura't que el model no sobreentreni i generalitzi bé a imatges noves."
   ],
   "id": "ce795d106c5192a4"
  }
 ],
 "metadata": {
  "kernelspec": {
   "display_name": "Python 3",
   "language": "python",
   "name": "python3"
  },
  "language_info": {
   "codemirror_mode": {
    "name": "ipython",
    "version": 2
   },
   "file_extension": ".py",
   "mimetype": "text/x-python",
   "name": "python",
   "nbconvert_exporter": "python",
   "pygments_lexer": "ipython2",
   "version": "2.7.6"
  }
 },
 "nbformat": 4,
 "nbformat_minor": 5
}
